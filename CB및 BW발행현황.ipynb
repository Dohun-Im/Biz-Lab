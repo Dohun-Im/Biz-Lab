{
  "nbformat": 4,
  "nbformat_minor": 0,
  "metadata": {
    "colab": {
      "name": "자본변동.ipynb",
      "provenance": [],
      "collapsed_sections": [],
      "authorship_tag": "ABX9TyNtnvDWxL571wxwMP5KY9f7",
      "include_colab_link": true
    },
    "kernelspec": {
      "name": "python3",
      "display_name": "Python 3"
    },
    "language_info": {
      "name": "python"
    }
  },
  "cells": [
    {
      "cell_type": "markdown",
      "metadata": {
        "id": "view-in-github",
        "colab_type": "text"
      },
      "source": [
        "<a href=\"https://colab.research.google.com/github/Dohun-Im/Biz-Lab/blob/main/%EC%9E%90%EB%B3%B8%EB%B3%80%EB%8F%99%EC%82%AC%ED%95%AD.ipynb\" target=\"_parent\"><img src=\"https://colab.research.google.com/assets/colab-badge.svg\" alt=\"Open In Colab\"/></a>"
      ]
    },
    {
      "cell_type": "code",
      "metadata": {
        "id": "NVcAzS_0TBqo"
      },
      "source": [
        "pip install opendartreader"
      ],
      "execution_count": null,
      "outputs": []
    },
    {
      "cell_type": "code",
      "metadata": {
        "id": "ZIp3zxozTFTO"
      },
      "source": [
        "pip install --upgrade opendartreader"
      ],
      "execution_count": null,
      "outputs": []
    },
    {
      "cell_type": "code",
      "metadata": {
        "colab": {
          "base_uri": "https://localhost:8080/"
        },
        "id": "foHq9ergQUD1",
        "outputId": "2687b1e3-d933-4e5c-fc7f-b5f883adb5b4"
      },
      "source": [
        "import pandas as pd\n",
        "import re\n",
        "import glob\n",
        "import requests\n",
        "import xml.etree.ElementTree as ET\n",
        "import zipfile\n",
        "import io\n",
        "import csv\n",
        "import os, re, codecs\n",
        "import json\n",
        "import numpy as np\n",
        "import datetime\n",
        "try:\n",
        "    from io import BytesIO\n",
        "    from pandas import json_normalize\n",
        "    from pandas import DataFrame as df\n",
        "except ImportError:\n",
        "    from pandas.io.json import json_normalize\n",
        "import OpenDartReader\n",
        "from bs4 import BeautifulSoup\n",
        "%matplotlib inline\n",
        "import matplotlib.pyplot as plt\n",
        "from google.colab import drive\n",
        "drive.mount('/content/drive')"
      ],
      "execution_count": null,
      "outputs": [
        {
          "output_type": "stream",
          "text": [
            "Mounted at /content/drive\n"
          ],
          "name": "stdout"
        }
      ]
    },
    {
      "cell_type": "code",
      "metadata": {
        "id": "tQ-Nl7Q1QdR4"
      },
      "source": [
        "api_key = '****'\n",
        "dart = OpenDartReader(api_key)"
      ],
      "execution_count": null,
      "outputs": []
    },
    {
      "cell_type": "code",
      "metadata": {
        "id": "U0cU_oWfTUed"
      },
      "source": [
        "os.chdir(r'/content/drive/MyDrive/주석txt/')\n",
        "st = pd.read_excel(r'/content/drive/MyDrive/주석txt/회사정보 list.xlsx')\n",
        "st = st['symbol'].str.replace(r'[^\\d]','')\n",
        "st\n",
        "# st1 = st[0:600]\n",
        "# st2 = st[600:1200]\n",
        "# st3 = st[1200:]\n"
      ],
      "execution_count": null,
      "outputs": []
    },
    {
      "cell_type": "code",
      "metadata": {
        "id": "9s5ujzHYRBNG"
      },
      "source": [
        "#연결재무제표 주석 크롤링\n",
        "st2 = ['035900','085310']\n",
        "for m in st2:\n",
        "  try:\n",
        "    report = dart.list(m, start = '2011',end= '2021.4.29', kind='A',final=True) \n",
        "    report_사업보고서 = report[report['report_nm'].str.contains('사업')]\n",
        "    report2 = report_사업보고서[['corp_name','stock_code','rcept_no','rcept_dt','report_nm']]\n",
        "    n = report2['rcept_no']\n",
        "\n",
        "    \n",
        "    dt = report2['report_nm']\n",
        "    dt = ''.join(dt) \n",
        "    korean = re.compile('[\\u3131-\\u3163\\uac00-\\ud7a3]+')\n",
        "    dt = re.sub(korean,'',dt)\n",
        "    dt = re.sub(r'[^a-zA-Z0-9]', '', dt)\n",
        "    dt = re.sub('12','',dt)\n",
        "    def list_chunk(lst, n):\n",
        "            return [lst[i:i+n] for i in range(0, len(lst), n)]\n",
        "    dt = list_chunk(dt, 4)\n",
        "    for j,d in zip(n,dt):\n",
        "      sub_report = dart.sub_docs(j)\n",
        "      try:\n",
        "        url = sub_report.loc[sub_report['title'].str.contains('자본금'), 'url'].values[0]\n",
        "        soup = BeautifulSoup(requests.get(url).text)\n",
        "        soup = soup.text  \n",
        "        with open('/content/drive/MyDrive/자본금txt/txt/'+m+d+j+'.txt', 'w', encoding= 'utf-8') as file:\n",
        "          file.write(soup)\n",
        "        # print(url)\n",
        "      except IndexError:\n",
        "        continue\n",
        "     \n",
        "  #   continue\n",
        "  except IndexError:\n",
        "    continue\n",
        "  except: {\"status\":\"013\",\"message\":\"조회된 데이타가 없습니다.\"}\n",
        "  continue"
      ],
      "execution_count": null,
      "outputs": []
    },
    {
      "cell_type": "code",
      "metadata": {
        "id": "tF0qHakhZNtj"
      },
      "source": [
        "os.chdir(r'/content/drive/MyDrive/자본금txt/txt')\n",
        "name = os.listdir(r'/content/drive/MyDrive/자본금txt/txt')\n",
        "# del name[0]\n",
        "# name_1 = name[0:4000]\n",
        "\n",
        "# name_2 = name[4000:8000]\n",
        "# name_3 = name[8000:]\n",
        "# name_1"
      ],
      "execution_count": null,
      "outputs": []
    },
    {
      "cell_type": "code",
      "metadata": {
        "id": "enOUAb3-hXQX"
      },
      "source": [
        "#전환사채 table\n",
        "os.chdir(r'/content/drive/MyDrive/자본금txt/txt')\n",
        "for o in name:\n",
        "    rcept_no = o[10:24]\n",
        "    fyr = o[6:10]\n",
        "    symbol = 'A'+ o[0:6]\n",
        "    file_name = o[0:24]\n",
        "\n",
        "    f = open(r'/content/drive/MyDrive/자본금txt/txt/'+ o, 'r',  encoding = 'utf-8') \n",
        "    web = f.read()\n",
        "    web = re.sub(r'\\xa0', '',web)\n",
        "    web = re.sub(' ', '', web)\n",
        "    x = '미상환전환사채발행현황'\n",
        "    if web.find(x) != -1:\n",
        "      n = web.find(x)\n",
        "      y = '미상환신주인수권부사채등발행현황'\n",
        "      z = '미상환신주인수권부사채발행현황'\n",
        "      if web.find(y) != -1:\n",
        "        nn = web.find(y)-1\n",
        "      elif web.find(z) != -1:\n",
        "        nn = web.find(z)-1\n",
        "      elif web.find(y) == -1:  \n",
        "        nn = len(web)  \n",
        "      elif web.find(z) == -1:\n",
        "        nn = len(web)\n",
        "        \n",
        "      web = web[n:nn]\n",
        "      \n",
        "      web = re.sub('전환조건','',web)\n",
        "      web = re.sub('미상환사채','',web) \n",
        "      web = re.sub('행사조건','',web)\n",
        "      web = re.sub('미행사신주인수권부사채','',web)\n",
        "      web = re.sub('전자등록','',web)\n",
        "      web = re.sub('기준일:','',web)\n",
        "      web = re.sub('비고','',web)\n",
        "        # web = re.sub('-','',web)\n",
        "              \n",
        "      characters = ')(%~'\n",
        "      for t in range(len(characters)):\n",
        "        web = web.replace(characters[t],'')\n",
        "          \n",
        "      web_temp = web\n",
        "\n",
        "      regex2 = re.compile('(.*){}'.format(re.escape('\\n'))) \n",
        "      web_temp2 = regex2.findall(web_temp)\n",
        "      web_temp2 = list(filter(None, web_temp2))\n",
        "      def list_chunk(lst, n):\n",
        "        return [lst[i:i+n] for i in range(0, len(lst), n)]  \n",
        "        \n",
        "      if '회차' in web_temp2:\n",
        "          # web_temp2.insert(14,'비고')\n",
        "        time = web_temp2[1]\n",
        "        unit = web_temp2[2]\n",
        "        del web_temp2[0:14]\n",
        "          \n",
        "        list_chunked = list_chunk(web_temp2, 12)\n",
        "        df = pd.DataFrame(list_chunked)\n",
        "        df.columns = ['종류\\구분','회차','발행일','만기일','권면총액','전환대상주식의종류','전환청구가능기간','전환비율','전환가액','미상환권면총액','전환주식가능수','비고']\n",
        "        df['단위'] = pd.Series([unit])\n",
        "        df['기준일'] = pd.Series([time])\n",
        "        df['symbol'] = pd.Series([symbol])\n",
        "        df = df[['symbol','기준일','단위','종류\\구분','발행일','만기일','권면총액','전환대상주식의종류','전환청구가능기간','전환비율','전환가액','미상환권면총액','전환주식가능수','비고']]\n",
        "        df = df.replace({'\\-':'', '\\,':'','\\.':''}, regex=True)\n",
        "        df = df.replace({'년':'', '월':'','일':''}, regex=True)\n",
        "        df['만기일'].replace('',np.nan, inplace=True) #이걸 기준으로 밑에 밑의 오류들을 지웠는데 뒤에 BW공시 있으면 작동안됨\n",
        "        df.dropna(subset=['만기일'], inplace=True)\n",
        "        df[['기준일','발행일','만기일']] = df[['기준일','발행일','만기일']].astype('str')\n",
        "        df['기준일']= pd.to_datetime(df['기준일']).dt.date\n",
        "        df['발행일']= pd.to_datetime(df['발행일']).dt.date\n",
        "        df['만기일']= pd.to_datetime(df['만기일']).dt.date\n",
        "          # df['전환청구가능기간']=pd.to_datetime(df['전환청구가능기간'])\n",
        "          \n",
        "          # df[['symbol','기준일','단위']].replace('',np.nan, inplace=True)\n",
        "          # df.fillna(method='ffill')\n",
        "        df.to_excel('/content/drive/My Drive//자본금txt/CBtable/'+file_name+'.xlsx')\n",
        "        \n",
        "\n",
        "      elif '회차' not in web_temp2:\n",
        "        # web_temp2.insert(13,'비고')\n",
        "        time = web_temp2[1]\n",
        "        unit = web_temp2[2]\n",
        "        del web_temp2[0:13]\n",
        "\n",
        "       \n",
        "        list_chunked = list_chunk(web_temp2, 11)\n",
        "        df = pd.DataFrame(list_chunked)\n",
        "        df.columns = ['종류\\구분','발행일','만기일','권면총액','전환대상주식의종류','전환청구가능기간','전환비율','전환가액','미상환권면총액','전환주식가능수','비고']\n",
        "        df['단위'] = pd.Series([unit])\n",
        "        df['기준일'] = pd.Series([time])\n",
        "        df['symbol'] = pd.Series([symbol])\n",
        "        df = df[['symbol','기준일','단위','종류\\구분','발행일','만기일','권면총액','전환대상주식의종류','전환청구가능기간','전환비율','전환가액','미상환권면총액','전환주식가능수','비고']]\n",
        "        df = df.replace({'\\-':'', '\\,':'','\\.':''}, regex=True)\n",
        "        df = df.replace({'년':'', '월':'','일':''}, regex=True)\n",
        "        df['만기일'].replace('',np.nan, inplace=True)\n",
        "        df.dropna(subset=['만기일'], inplace=True)\n",
        "        df[['기준일','발행일','만기일']] = df[['기준일','발행일','만기일']].astype('str')\n",
        "        df['기준일']= pd.to_datetime(df['기준일']).dt.date\n",
        "        df['발행일']= pd.to_datetime(df['발행일']).dt.date\n",
        "        df['만기일']= pd.to_datetime(df['만기일']).dt.date\n",
        "        df.to_excel('/content/drive/My Drive///자본금txt/CBtable/'+file_name+'.xlsx')\n",
        "      \n",
        "    else:\n",
        "      pass\n",
        "  \n",
        "  \n",
        "\n",
        "\n",
        "\n",
        "   \n",
        "     \n",
        "\n",
        "\n",
        "    "
      ],
      "execution_count": null,
      "outputs": []
    },
    {
      "cell_type": "code",
      "metadata": {
        "id": "bb7cj_v-tyWt"
      },
      "source": [
        "print(df.info())"
      ],
      "execution_count": null,
      "outputs": []
    },
    {
      "cell_type": "code",
      "metadata": {
        "id": "TkWrausMFZTA"
      },
      "source": [
        "#신주인수권부사채 table\n",
        "os.chdir(r'/content/drive/MyDrive/자본금txt/txt')\n",
        "for o in name:\n",
        "    rcept_no = o[10:24]\n",
        "    fyr = o[6:10]\n",
        "    symbol = 'A'+ o[0:6]\n",
        "    file_name = o[0:24]\n",
        "\n",
        "    f = open(r'/content/drive/MyDrive/자본금txt/txt/'+ o, 'r',  encoding = 'utf-8') \n",
        "    web = f.read()\n",
        "    web = re.sub(r'\\xa0', '',web)\n",
        "    web = re.sub(' ', '', web)\n",
        "    x = '미상환신주인수권부사채등발행현황'\n",
        "    if web.find(x) != -1:\n",
        "      n = web.find(x)\n",
        "      y = '미상환전환형조건부자본증권발행현황'\n",
        "      if web.find(y) != -1:\n",
        "        nn = web.find(y)-1\n",
        "      elif web.find(y) == -1:\n",
        "        nn = len(web)\n",
        "        \n",
        "      web = web[n:nn]\n",
        "      \n",
        "      web = re.sub('전환조건','',web)\n",
        "      web = re.sub('미상환사채','',web) \n",
        "      web = re.sub('행사조건','',web)\n",
        "      web = re.sub('미행사신주인수권부사채','',web)\n",
        "      web = re.sub('전자등록','',web)\n",
        "      web = re.sub('기준일:','',web)\n",
        "      web = re.sub('비고','',web)\n",
        "      # web = re.sub('-','',web)\n",
        "              \n",
        "      characters = ')(%~'\n",
        "      for t in range(len(characters)):\n",
        "        web = web.replace(characters[t],'')\n",
        "          \n",
        "      web_temp = web\n",
        "\n",
        "      regex2 = re.compile('(.*){}'.format(re.escape('\\n'))) \n",
        "      web_temp2 = regex2.findall(web_temp)\n",
        "      web_temp2 = list(filter(None, web_temp2))\n",
        "      def list_chunk(lst, n):\n",
        "        return [lst[i:i+n] for i in range(0, len(lst), n)]  \n",
        "        \n",
        "      if '회차' in web_temp2:\n",
        "          # web_temp2.insert(14,'비고')\n",
        "        time = web_temp2[1]\n",
        "        unit = web_temp2[2]\n",
        "        del web_temp2[0:14]\n",
        "          \n",
        "        list_chunked = list_chunk(web_temp2, 12)\n",
        "        df = pd.DataFrame(list_chunked)\n",
        "        df.columns = ['종류\\구분','회차','발행일','만기일','권면총액','전환대상주식의종류','전환청구가능기간','전환비율','전환가액','미상환권면총액','전환주식가능수','비고']\n",
        "        df['단위'] = pd.Series([unit])\n",
        "        df['기준일'] = pd.Series([time])\n",
        "        df['symbol'] = pd.Series([symbol])\n",
        "        df = df[['symbol','기준일','단위','종류\\구분','발행일','만기일','권면총액','전환대상주식의종류','전환청구가능기간','전환비율','전환가액','미상환권면총액','전환주식가능수','비고']]\n",
        "        df = df.replace({'\\-':'', '\\,':'','\\.':''}, regex=True)\n",
        "        df = df.replace({'년':'', '월':'','일':''}, regex=True)\n",
        "        df['만기일'].replace('',np.nan, inplace=True) #이걸 기준으로 밑에 밑의 오류들을 지웠는데 뒤에 BW공시 있으면 작동안됨\n",
        "        df.dropna(subset=['만기일'], inplace=True)\n",
        "        df[['기준일','발행일','만기일']] = df[['기준일','발행일','만기일']].astype('str')\n",
        "        df['기준일']= pd.to_datetime(df['기준일']).dt.date\n",
        "        df['발행일']= pd.to_datetime(df['발행일']).dt.date\n",
        "        df['만기일']= pd.to_datetime(df['만기일']).dt.date\n",
        "          # df['전환청구가능기간']=pd.to_datetime(df['전환청구가능기간'])\n",
        "          \n",
        "          # df[['symbol','기준일','단위']].replace('',np.nan, inplace=True)\n",
        "          # df.fillna(method='ffill')\n",
        "        df.to_excel('/content/drive/My Drive//자본금txt/BWtable/'+file_name+'.xlsx')\n",
        "        \n",
        "\n",
        "      elif '회차' not in web_temp2:\n",
        "        # web_temp2.insert(13,'비고')\n",
        "        time = web_temp2[1]\n",
        "        unit = web_temp2[2]\n",
        "        del web_temp2[0:13]\n",
        "\n",
        "       \n",
        "        list_chunked = list_chunk(web_temp2, 11)\n",
        "        df = pd.DataFrame(list_chunked)\n",
        "        df.columns = ['종류\\구분','발행일','만기일','권면총액','행사대상주식의종류','신주인수권행사가능기간','행사비율','행사가액','미행사권면총액','행사가능주식수','비고']\n",
        "        df['단위'] = pd.Series([unit])\n",
        "        df['기준일'] = pd.Series([time])\n",
        "        df['symbol'] = pd.Series([symbol])\n",
        "        df = df[['symbol','기준일','단위','종류\\구분','발행일','만기일','권면총액','행사대상주식의종류','신주인수권행사가능기간','행사비율','행사가액','미행사권면총액','행사가능주식수','비고']]\n",
        "        df = df.replace({'\\-':'', '\\,':'','\\.':''}, regex=True)\n",
        "        df = df.replace({'년':'', '월':'','일':''}, regex=True)\n",
        "        df['만기일'].replace('',np.nan, inplace=True)\n",
        "        df.dropna(subset=['만기일'], inplace=True)\n",
        "        df[['기준일','발행일','만기일']] = df[['기준일','발행일','만기일']].astype('str')\n",
        "        df['기준일']= pd.to_datetime(df['기준일']).dt.date\n",
        "        df['발행일']= pd.to_datetime(df['발행일']).dt.date\n",
        "        df['만기일']= pd.to_datetime(df['만기일']).dt.date\n",
        "        df.to_excel('/content/drive/My Drive///자본금txt/BWtable/'+file_name+'.xlsx')\n",
        "      \n",
        "    else:\n",
        "      pass\n",
        "# pd.set_option('display.max_columns', 500)\n",
        "# print(df)\n",
        "  "
      ],
      "execution_count": null,
      "outputs": []
    },
    {
      "cell_type": "code",
      "metadata": {
        "id": "kZZEfWsJmrsm"
      },
      "source": [
        ""
      ],
      "execution_count": null,
      "outputs": []
    }
  ]
}
